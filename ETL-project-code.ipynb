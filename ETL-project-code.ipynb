{
 "cells": [
  {
   "cell_type": "code",
   "execution_count": 5,
   "metadata": {},
   "outputs": [],
   "source": [
    "#Importing dependencies\n",
    "import pandas as pd\n",
    "from sodapy import Socrata\n",
    "from config import app_token\n",
    "from config import username\n",
    "from config import password"
   ]
  },
  {
   "cell_type": "code",
   "execution_count": 6,
   "metadata": {},
   "outputs": [],
   "source": [
    "# Getting the data from API NY Open Data\n",
    "client = Socrata(\"data.cityofnewyork.us\",\n",
    "                  app_token, username,\n",
    "                  password)\n",
    "# Database returned as JSON from API / converted to Python list of dictionaries by sodapy.\n",
    "results = client.get(\"gaq9-z3hz\", limit=2832)\n",
    "\n",
    "# Convert to pandas DataFrame\n",
    "Recycling_Div_Captures = pd.DataFrame.from_records(results)\n"
   ]
  },
  {
   "cell_type": "code",
   "execution_count": null,
   "metadata": {},
   "outputs": [],
   "source": []
  }
 ],
 "metadata": {
  "kernelspec": {
   "display_name": "Python [conda env:.conda-PythonData2] *",
   "language": "python",
   "name": "conda-env-.conda-PythonData2-py"
  },
  "language_info": {
   "codemirror_mode": {
    "name": "ipython",
    "version": 3
   },
   "file_extension": ".py",
   "mimetype": "text/x-python",
   "name": "python",
   "nbconvert_exporter": "python",
   "pygments_lexer": "ipython3",
   "version": "3.6.10"
  }
 },
 "nbformat": 4,
 "nbformat_minor": 4
}

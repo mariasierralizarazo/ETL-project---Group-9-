{
 "cells": [
  {
   "cell_type": "markdown",
   "metadata": {},
   "source": [
    "### Dependecies and necessary tools"
   ]
  },
  {
   "cell_type": "code",
   "execution_count": 1,
   "metadata": {},
   "outputs": [
    {
     "ename": "ModuleNotFoundError",
     "evalue": "No module named 'config1'",
     "output_type": "error",
     "traceback": [
      "\u001b[1;31m---------------------------------------------------------------------------\u001b[0m",
      "\u001b[1;31mModuleNotFoundError\u001b[0m                       Traceback (most recent call last)",
      "\u001b[1;32m<ipython-input-1-6e26f33d2102>\u001b[0m in \u001b[0;36m<module>\u001b[1;34m\u001b[0m\n\u001b[0;32m      9\u001b[0m \u001b[1;33m\u001b[0m\u001b[0m\n\u001b[0;32m     10\u001b[0m \u001b[1;31m# Importing data for API call\u001b[0m\u001b[1;33m\u001b[0m\u001b[1;33m\u001b[0m\u001b[1;33m\u001b[0m\u001b[0m\n\u001b[1;32m---> 11\u001b[1;33m \u001b[1;32mfrom\u001b[0m \u001b[0mconfig1\u001b[0m \u001b[1;32mimport\u001b[0m \u001b[0mapp_token\u001b[0m\u001b[1;33m\u001b[0m\u001b[1;33m\u001b[0m\u001b[0m\n\u001b[0m\u001b[0;32m     12\u001b[0m \u001b[1;32mfrom\u001b[0m \u001b[0mconfig1\u001b[0m \u001b[1;32mimport\u001b[0m \u001b[0musername\u001b[0m\u001b[1;33m\u001b[0m\u001b[1;33m\u001b[0m\u001b[0m\n\u001b[0;32m     13\u001b[0m \u001b[1;32mfrom\u001b[0m \u001b[0mconfig1\u001b[0m \u001b[1;32mimport\u001b[0m \u001b[0mpassword\u001b[0m\u001b[1;33m\u001b[0m\u001b[1;33m\u001b[0m\u001b[0m\n",
      "\u001b[1;31mModuleNotFoundError\u001b[0m: No module named 'config1'"
     ]
    }
   ],
   "source": [
    "#Importing dependencies\n",
    "import pandas as pd\n",
    "from sodapy import Socrata\n",
    "import scipy.stats as st\n",
    "import numpy as np\n",
    "from splinter import Browser\n",
    "from bs4 import BeautifulSoup\n",
    "from webdriver_manager.chrome import ChromeDriverManager\n",
    "\n",
    "# Importing data for API call\n",
    "from config1 import app_token\n",
    "from config1 import username\n",
    "from config1 import password"
   ]
  },
  {
   "cell_type": "markdown",
   "metadata": {},
   "source": [
    "### EXTRACT "
   ]
  },
  {
   "cell_type": "code",
   "execution_count": null,
   "metadata": {},
   "outputs": [],
   "source": [
    "# Getting the data from API NY Open Data for the first database: \n",
    "client = Socrata(\"data.cityofnewyork.us\",\n",
    "                  app_token, username,\n",
    "                  password)\n",
    "# Database returned as JSON from API / converted to Python list of dictionaries by sodapy.\n",
    "results = client.get(\"gaq9-z3hz\", limit=2832)\n",
    "\n",
    "# Convert to pandas DataFrame\n",
    "Recycling_Div_Captures = pd.DataFrame.from_records(results)\n",
    "Recycling_Div_Captures"
   ]
  },
  {
   "cell_type": "code",
   "execution_count": null,
   "metadata": {},
   "outputs": [],
   "source": [
    "# creating path for the citywide subsort \n",
    "data_path = \"Resources/Citywide_Subsort.csv\"\n",
    "# Read the data into df\n",
    "cws_df = pd.read_csv(data_path)\n",
    "#Preview data\n",
    "cws_df.head()"
   ]
  },
  {
   "cell_type": "code",
   "execution_count": null,
   "metadata": {},
   "outputs": [],
   "source": [
    "executable_path = {'executable_path': ChromeDriverManager().install()}\n",
    "browser = Browser('chrome', **executable_path, headless=False)"
   ]
  },
  {
   "cell_type": "code",
   "execution_count": null,
   "metadata": {},
   "outputs": [],
   "source": [
    "url = 'https://data.cityofnewyork.us/City-Government/DSNY-Waste-Characterization-Mainsort/k3ks-jzek'\n",
    "browser.visit(url)"
   ]
  },
  {
   "cell_type": "code",
   "execution_count": null,
   "metadata": {},
   "outputs": [],
   "source": [
    "df_list = []\n",
    "for x in range(1,41):\n",
    "    html = browser.html\n",
    "    soup = BeautifulSoup(html, 'html.parser')\n",
    "    \n",
    "    table = soup.find_all('div', class_='socrata-table frozen-columns')\n",
    "    df_list.append(pd.read_html(str(table))[0])\n",
    "    button = browser.find_by_xpath('//*[@id=\"app\"]/div/div[2]/section[4]/div[2]/div/div/div[4]/div[3]/span[1]/button[2]').click()"
   ]
  },
  {
   "cell_type": "code",
   "execution_count": null,
   "metadata": {},
   "outputs": [],
   "source": [
    "df_combined = pd.concat(df_list)"
   ]
  },
  {
   "cell_type": "code",
   "execution_count": null,
   "metadata": {},
   "outputs": [],
   "source": [
    "df_combined.reset_index(drop=True, inplace=True)"
   ]
  },
  {
   "cell_type": "code",
   "execution_count": null,
   "metadata": {},
   "outputs": [],
   "source": [
    "cwm_df = df_combined\n",
    "cwm_df.head()"
   ]
  },
  {
   "cell_type": "markdown",
   "metadata": {},
   "source": [
    "### TRANSFORM"
   ]
  },
  {
   "cell_type": "code",
   "execution_count": null,
   "metadata": {},
   "outputs": [],
   "source": [
    "# Analizing material groups\n",
    "unique_mat_subsort = cws_df[\"Material Group\"].unique()\n",
    "print(f'Material groups (subsort): {unique_mat_subsort}')\n",
    "unique_mat_mainsort = cwm_df[\"Material Group\"].unique()\n",
    "print(f'Material groups (mainsort): {unique_mat_mainsort}')"
   ]
  },
  {
   "cell_type": "markdown",
   "metadata": {},
   "source": [
    "In the general database (Recycling_Div_Captures) is possible to see that there is just data for paper and MGP, so from this dataset information just for those materials will be taken. \n",
    "The materials will be group in the next collections for a non-relational dabatase:\n",
    "- Paper\n",
    "- MGP (Metal, Glass, and Plastic)\n",
    "- Organic\n",
    "- E- Waste\n",
    "- Special Waste\n",
    "- Others"
   ]
  },
  {
   "cell_type": "code",
   "execution_count": null,
   "metadata": {},
   "outputs": [],
   "source": [
    "unique_loc_subsort = cws_df[\"Location\"].unique()\n",
    "print(f\"Locations register in the Subsort dataset: {unique_loc_subsort}\")\n",
    "print(\"----------------------------------------------------------------\")\n",
    "unique_loc_mainsort = cwm_df[\"Location\"].unique()\n",
    "print(f\"Locations register in the Mainsort dataset: {unique_loc_mainsort}\")\n",
    "print(\"----------------------------------------------------------------\")\n",
    "uniqie_loc_general = Recycling_Div_Captures[\"_zone\"].unique()\n",
    "print(f\"Locations register in the general dataset: {uniqie_loc_general}\")"
   ]
  },
  {
   "cell_type": "markdown",
   "metadata": {},
   "source": [
    "Analaizing the locations in all the databases, we decide to summarize and filtering them and their data just for the 5 boroughs.\n",
    "- Manhattan\n",
    "- Queens (which includes 'Queens East' and 'Queens West')\n",
    "- Brooklyn (which includes 'Brooklyn North' and 'Brooklyn South')\n",
    "- Bronx\n",
    "- Staten Island\n",
    "\n",
    "\n",
    "Each material collection will have some next fields per location (materials like paper and MGP will have average capture rates taken from the general dataset, but the other not because we do not have that information):\n",
    "- Total aggregate percent\n",
    "- Total refuse percent\n",
    "- Average capture rate\n",
    "- Average percent misclassified material "
   ]
  },
  {
   "cell_type": "code",
   "execution_count": null,
   "metadata": {},
   "outputs": [],
   "source": [
    "# Subsort percentages format \n",
    "cols = [\"Aggregate Percent\", \"Refuse Percent\", \"MGP Percent\", \"Paper Percent\", \"Organic Percent\"]\n",
    "cws_df[cols] = cws_df[cols] *100\n",
    "cws_df.head()"
   ]
  },
  {
   "cell_type": "code",
   "execution_count": null,
   "metadata": {},
   "outputs": [],
   "source": [
    "# # Mainsort percentages format \n",
    "# cols = [\"Aggregate Percent\", \"Refuse Percent\", \"MGP Percent\", \"Paper Percent\", \"Organic Percent\"]\n",
    "# cwm_df[\"Aggregate Percent\"][0]\n"
   ]
  },
  {
   "cell_type": "code",
   "execution_count": null,
   "metadata": {},
   "outputs": [],
   "source": [
    "# First filter: Recycling_Div_Captures data should be filter just for 2017 year\n",
    "Recycling_Div_Captures[\"fiscal_year\"] = Recycling_Div_Captures[\"fiscal_year\"].apply(pd.to_numeric, errors='coerce')\n",
    "Recycling_Div_Captures = Recycling_Div_Captures.loc[Recycling_Div_Captures[\"fiscal_year\"]==2017,:]\n"
   ]
  },
  {
   "cell_type": "code",
   "execution_count": null,
   "metadata": {},
   "outputs": [],
   "source": []
  }
 ],
 "metadata": {
  "kernelspec": {
   "display_name": "Python 3",
   "language": "python",
   "name": "python3"
  },
  "language_info": {
   "codemirror_mode": {
    "name": "ipython",
    "version": 3
   },
   "file_extension": ".py",
   "mimetype": "text/x-python",
   "name": "python",
   "nbconvert_exporter": "python",
   "pygments_lexer": "ipython3",
   "version": "3.6.10"
  }
 },
 "nbformat": 4,
 "nbformat_minor": 4
}

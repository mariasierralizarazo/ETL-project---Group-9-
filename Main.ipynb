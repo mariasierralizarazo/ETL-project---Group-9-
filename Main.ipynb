{
 "cells": [
  {
   "cell_type": "code",
   "execution_count": null,
   "metadata": {},
   "outputs": [],
   "source": [
    "#Importing dependencies\n",
    "import pandas as pd\n",
    "from sodapy import Socrata\n",
    "from config import app_token\n",
    "from config import username\n",
    "from config import password\n",
    "\n",
    "#dependencies for 2nd data source\n",
    "import pandas as pd\n",
    "import scipy.stats as st\n",
    "import numpy as np"
   ]
  },
  {
   "cell_type": "code",
   "execution_count": null,
   "metadata": {},
   "outputs": [],
   "source": [
    "# Getting the data from API NY Open Data\n",
    "client = Socrata(\"data.cityofnewyork.us\",\n",
    "                  app_token, username,\n",
    "                  password)\n",
    "# Database returned as JSON from API / converted to Python list of dictionaries by sodapy.\n",
    "results = client.get(\"gaq9-z3hz\", limit=2832)\n",
    "\n",
    "# Convert to pandas DataFrame\n",
    "Recycling_Div_Captures = pd.DataFrame.from_records(results)"
   ]
  },
  {
   "cell_type": "code",
   "execution_count": null,
   "metadata": {},
   "outputs": [],
   "source": [
    "# creating path for the citywide subsort \n",
    "data_path = \"Resources/Citywide_Subsort.csv\"\n",
    "\n",
    "\n",
    "# Read the data into df\n",
    "cws_df = pd.read_csv(data_path)\n",
    "\n",
    "\n",
    "#Preview data\n",
    "cws_df.head()"
   ]
  }
 ],
 "metadata": {
  "kernelspec": {
   "display_name": "Python 3",
   "language": "python",
   "name": "python3"
  },
  "language_info": {
   "codemirror_mode": {
    "name": "ipython",
    "version": 3
   },
   "file_extension": ".py",
   "mimetype": "text/x-python",
   "name": "python",
   "nbconvert_exporter": "python",
   "pygments_lexer": "ipython3",
   "version": "3.8.5"
  }
 },
 "nbformat": 4,
 "nbformat_minor": 4
}
